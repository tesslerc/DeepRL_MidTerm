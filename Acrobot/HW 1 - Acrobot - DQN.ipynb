{
 "cells": [
  {
   "cell_type": "code",
   "execution_count": 1,
   "metadata": {},
   "outputs": [],
   "source": [
    "%matplotlib inline\n",
    "\n",
    "import os\n",
    "import pickle\n",
    "import torch\n",
    "import torch.nn as nn\n",
    "from torch import optim\n",
    "import torch.nn.functional as F\n",
    "import gym\n",
    "import numpy as np\n",
    "from collections import namedtuple\n",
    "import random\n",
    "from matplotlib import pyplot as pl\n",
    "from PIL import Image\n",
    "from IPython.display import clear_output\n",
    "import torchvision.transforms as T"
   ]
  },
  {
   "cell_type": "markdown",
   "metadata": {},
   "source": [
    "# Initialize environment"
   ]
  },
  {
   "cell_type": "code",
   "execution_count": 2,
   "metadata": {},
   "outputs": [
    {
     "name": "stdout",
     "output_type": "stream",
     "text": [
      "\u001b[33mWARN: gym.spaces.Box autodetected dtype as <class 'numpy.float32'>. Please provide explicit dtype.\u001b[0m\n",
      "\u001b[33mWARN: gym.spaces.Box autodetected dtype as <class 'numpy.float32'>. Please provide explicit dtype.\u001b[0m\n"
     ]
    }
   ],
   "source": [
    "env = gym.make('Acrobot-v1')\n",
    "eval_env = gym.make('Acrobot-v1')\n",
    "Transition = namedtuple('Transition', ('state', 'action', 'reward', 'next_state', 'done', 'timeout'))"
   ]
  },
  {
   "cell_type": "markdown",
   "metadata": {},
   "source": [
    "# Hyper-parameters"
   ]
  },
  {
   "cell_type": "code",
   "execution_count": 3,
   "metadata": {},
   "outputs": [],
   "source": [
    "# Task parameters.\n",
    "output_size = env.action_space.n\n",
    "\n",
    "# General parameters.\n",
    "mem_capacity = 200000\n",
    "batch = 128\n",
    "lr = 2.5e-4\n",
    "gamma = 0.99\n",
    "num_steps = int(1e7)\n",
    "\n",
    "# Double Q learning.\n",
    "double_dqn = True\n",
    "\n",
    "# How often, in steps, to update the target network.\n",
    "target_update_freq = 500\n",
    "\n",
    "# Number of random steps, to gather training data, before learning begins.\n",
    "learn_start = 0 #10000\n",
    "\n",
    "# Number of previous frames to stack in order to obtain a markovian representation.\n",
    "hist_len = 4\n",
    "\n",
    "# How often, in steps, to evaluate the network, and for how many episodes.\n",
    "eval_freq = 10000\n",
    "eval_episodes = 10\n",
    "\n",
    "# Decay exploration coefficient linearly over eps_decay steps, down to the value of eps_end.\n",
    "eps_decay = 1e6\n",
    "eps_end = 0.2\n",
    "\n",
    "# Success replay memory parameters\n",
    "success_sample_probability_start = 0.5\n",
    "success_sample_probability_decay = 1e6\n",
    "success_sample_probability_end = 0.2\n",
    "success_traj_length = 200\n",
    "\n",
    "# Batch norm\n",
    "batch_norm = True\n",
    "\n",
    "use_cuda = torch.cuda.is_available()"
   ]
  },
  {
   "cell_type": "markdown",
   "metadata": {},
   "source": [
    "# State helper function"
   ]
  },
  {
   "cell_type": "code",
   "execution_count": 4,
   "metadata": {},
   "outputs": [],
   "source": [
    "def get_screen(_env, state):\n",
    "    # Remove top 120 pixels from the image. This is whitespace which is never used / changed.\n",
    "    screen = _env.render(mode='rgb_array')[120:, :, :].transpose(2,0,1)\n",
    "    # Transform to grayscale, resize to 40x40.\n",
    "    transform = T.Compose([T.ToPILImage(),\n",
    "                           T.Grayscale(),\n",
    "                           T.Resize((40, 40), interpolation=Image.CUBIC),\n",
    "                           T.ToTensor()])\n",
    "    # Normalize to [0, 1]\n",
    "    screen = np.ascontiguousarray(screen, dtype=np.float32) / 255\n",
    "    screen = torch.from_numpy(screen)\n",
    "\n",
    "    new_obs = transform(screen)\n",
    "    if use_cuda:\n",
    "        new_obs = new_obs.cuda()\n",
    "\n",
    "    # Concat hist_len previous frames together.\n",
    "    state = torch.cat([state[1:, :, :], 1 - new_obs], dim=0)\n",
    "    return state"
   ]
  },
  {
   "cell_type": "markdown",
   "metadata": {},
   "source": [
    "# Network definition"
   ]
  },
  {
   "cell_type": "code",
   "execution_count": 5,
   "metadata": {},
   "outputs": [],
   "source": [
    "class Flatten(nn.Module):\n",
    "    def forward(self, x):\n",
    "        x = x.view(x.size(0), -1)\n",
    "        return x\n",
    "\n",
    "\n",
    "class DQN_CNN(nn.Module):\n",
    "    def __init__(self, out_size, hist_len, batch_norm):\n",
    "        super().__init__()        \n",
    "        if batch_norm:\n",
    "            self.sequential = nn.Sequential(\n",
    "                nn.Conv2d(hist_len, 32, kernel_size=5, stride=2),\n",
    "                nn.ReLU(),\n",
    "                nn.BatchNorm2d(32),\n",
    "                nn.Conv2d(32, 32, kernel_size=5, stride=2),\n",
    "                nn.ReLU(),\n",
    "                nn.BatchNorm2d(32),\n",
    "                nn.Conv2d(32, 32, kernel_size=5, stride=2),\n",
    "                nn.ReLU(),\n",
    "                nn.BatchNorm2d(32),\n",
    "                Flatten(),\n",
    "                nn.ReLU(),\n",
    "                nn.Linear(128, out_size)\n",
    "            )\n",
    "        else:\n",
    "            self.sequential = nn.Sequential(\n",
    "                nn.Conv2d(hist_len, 32, kernel_size=5, stride=2),\n",
    "                nn.ReLU(),\n",
    "                nn.Conv2d(32, 32, kernel_size=5, stride=2),\n",
    "                nn.ReLU(),\n",
    "                nn.Conv2d(32, 32, kernel_size=5, stride=2),\n",
    "                Flatten(),\n",
    "                nn.ReLU(),\n",
    "                nn.Linear(128, out_size)\n",
    "            )\n",
    "\n",
    "    def forward(self, x):\n",
    "        return self.sequential(x)\n",
    "\n",
    "\n",
    "# Better weight initialization than the standard one provided by PyTorch.\n",
    "def init_weights(m):\n",
    "    classname = m.__class__.__name__\n",
    "    if classname.find('Conv') != -1:\n",
    "        weight_shape = list(m.weight.data.size())\n",
    "        fan_in = np.prod(weight_shape[1:4])\n",
    "        fan_out = np.prod(weight_shape[2:4]) * weight_shape[0]\n",
    "        w_bound = np.sqrt(6. / (fan_in + fan_out))\n",
    "        m.weight.data.uniform_(-w_bound, w_bound)\n",
    "        m.bias.data.fill_(0)\n",
    "    elif classname.find('Linear') != -1:\n",
    "        weight_shape = list(m.weight.data.size())\n",
    "        fan_in = weight_shape[1]\n",
    "        fan_out = weight_shape[0]\n",
    "        w_bound = np.sqrt(6. / (fan_in + fan_out))\n",
    "        m.weight.data.uniform_(-w_bound, w_bound)\n",
    "        m.bias.data.fill_(0)"
   ]
  },
  {
   "cell_type": "code",
   "execution_count": 7,
   "metadata": {},
   "outputs": [],
   "source": [
    "class ReplayBuffer:\n",
    "    def __init__(self, capacity, success_traj_length):\n",
    "        self.capacity = capacity\n",
    "        self.memory = []\n",
    "        self.position = 0\n",
    "        \n",
    "        # Success replay memory\n",
    "        self.success_memory = []\n",
    "        self.success_position = 0\n",
    "        self.success_traj_length = success_traj_length\n",
    "        self.success_capacity = int(0.25 * self.capacity)\n",
    "\n",
    "    def add(self, *args):\n",
    "        if len(self.memory) < self.capacity:\n",
    "            self.memory.append(None)\n",
    "        self.memory[self.position] = Transition(*args)\n",
    "        \n",
    "        # Once received done which isn't timeout - add trajectory to memory\n",
    "        if self.memory[self.position].done and not self.memory[self.position].timeout:\n",
    "            start_idx = self.position - 1\n",
    "            while not self.memory[start_idx].done and start_idx > 0 and start_idx > self.position - success_traj_length:\n",
    "                start_idx -= 1\n",
    "            if self.memory[start_idx].done:\n",
    "                start_idx += 1\n",
    "        \n",
    "            while start_idx <= self.position:\n",
    "                if len(self.success_memory) < self.success_capacity:\n",
    "                    self.success_memory.append(None)\n",
    "                self.success_memory[self.success_position] = self.memory[start_idx]\n",
    "                self.success_position = (self.success_position + 1) % self.success_capacity\n",
    "                start_idx += 1\n",
    "        \n",
    "        self.position = (self.position + 1) % self.capacity\n",
    "\n",
    "    def sample(self, batch_size, success_sample_prob):\n",
    "        mem_size = len(self.memory)\n",
    "        \n",
    "        batch = []\n",
    "        for _ in range(batch_size):\n",
    "            # with probability success_prob, sample from successful trajectories\n",
    "            if random.random() < success_sample_prob and len(self.success_memory) > 0:\n",
    "                idx = random.randint(0, len(self.success_memory) - 1)\n",
    "                batch.append(self.success_memory[idx])\n",
    "            else:\n",
    "                idx = random.randint(0, len(self.memory) - 1)\n",
    "                # Do not sample transitions which are \"done due to timeout\". This is a non-markovian feature\n",
    "                # which we would like to prevent the network from training on (it hurts convergence).\n",
    "                while self.memory[idx].timeout:\n",
    "                    idx = random.randint(0, len(self.memory) - 1)\n",
    "                batch.append(self.memory[idx])\n",
    "\n",
    "        batch_state, batch_action, batch_reward, batch_next_state, batch_done, _ = zip(*batch)\n",
    "        return batch_state, batch_action, batch_reward, batch_next_state, batch_done\n",
    "\n",
    "    def __len__(self):\n",
    "        return len(self.memory)"
   ]
  },
  {
   "cell_type": "markdown",
   "metadata": {},
   "source": [
    "# Initialize network, target, replaymemory and optimizer"
   ]
  },
  {
   "cell_type": "code",
   "execution_count": 8,
   "metadata": {},
   "outputs": [],
   "source": [
    "network = DQN_CNN(output_size, hist_len, batch_norm)\n",
    "network.apply(init_weights)\n",
    "target_network = DQN_CNN(output_size, hist_len, batch_norm)\n",
    "target_network.load_state_dict(network.state_dict())\n",
    "memory = ReplayBuffer(mem_capacity, success_traj_length)\n",
    "\n",
    "if use_cuda:\n",
    "    network = network.cuda()\n",
    "    target_network = target_network.cuda()\n",
    "    \n",
    "optimizer = optim.Adam(network.parameters(), lr=lr)"
   ]
  },
  {
   "cell_type": "markdown",
   "metadata": {},
   "source": [
    "print number of model parameters"
   ]
  },
  {
   "cell_type": "code",
   "execution_count": 10,
   "metadata": {},
   "outputs": [
    {
     "name": "stdout",
     "output_type": "stream",
     "text": [
      "55075\n"
     ]
    }
   ],
   "source": [
    "model_parameters = filter(lambda p: p.requires_grad, network.parameters())\n",
    "params = sum([np.prod(p.size()) for p in model_parameters])\n",
    "print(params)"
   ]
  },
  {
   "cell_type": "code",
   "execution_count": null,
   "metadata": {},
   "outputs": [],
   "source": [
    "average_rewards = []\n",
    "avg_rew_steps = []\n",
    "successes = []\n",
    "successes_steps = []\n",
    "losses = []\n",
    "losses_steps = []"
   ]
  },
  {
   "cell_type": "markdown",
   "metadata": {},
   "source": [
    "# Training"
   ]
  },
  {
   "cell_type": "code",
   "execution_count": null,
   "metadata": {},
   "outputs": [],
   "source": [
    "network.eval()\n",
    "target_network.eval()\n",
    "done = True\n",
    "reward = -1\n",
    "for step in trange(num_steps):\n",
    "    if done:\n",
    "        successes.append(done and reward >= 0)\n",
    "        successes_steps.append(step)\n",
    "\n",
    "        env.reset()\n",
    "        state = torch.zeros((hist_len, 40, 40)).float()\n",
    "        if use_cuda:\n",
    "            state = state.cuda()\n",
    "        state = get_screen(env, state)\n",
    "    \n",
    "    eps = max((eps_decay - step + learn_start) / eps_decay, eps_end)\n",
    "    if random.random() < eps:  # take random action w.p. epsilon\n",
    "        action = env.action_space.sample()\n",
    "    else:\n",
    "        action = network(state.unsqueeze(0)).max(1)[1].item()  # argmax_a Q(s_t, a)\n",
    "\n",
    "    _, reward, done, _ = env.step(action)\n",
    "    next_state = get_screen(env, state)\n",
    "    \n",
    "    memory.add(state, action, reward, next_state, not done, done and reward < 0)\n",
    "    state = next_state\n",
    "    \n",
    "    if step >= learn_start:\n",
    "        network.train()\n",
    "        decay_coeff = (learn_start - step) * 1.0 / success_sample_probability_decay\n",
    "        success_prob = max(success_sample_probability_start * decay_coeff + success_sample_probability_end * (1 - decay_coeff), success_sample_probability_end)\n",
    "        batch_state, batch_action, batch_reward, batch_next_state, not_done_mask = memory.sample(batch, success_prob)\n",
    "        \n",
    "        batch_state = torch.stack(batch_state)\n",
    "        batch_next_state = torch.stack(batch_next_state)\n",
    "        batch_action = torch.tensor(batch_action, dtype=torch.int64).unsqueeze(-1)\n",
    "        batch_reward = torch.tensor(batch_reward, dtype=torch.float32).unsqueeze(-1)\n",
    "        not_done_mask = torch.tensor(not_done_mask, dtype=torch.float32).unsqueeze(-1)\n",
    "        \n",
    "        if use_cuda:\n",
    "            batch_state = batch_state.cuda()\n",
    "            batch_next_state = batch_next_state.cuda()\n",
    "            batch_action = batch_action.cuda()\n",
    "            batch_reward = batch_reward.cuda()\n",
    "            not_done_mask = not_done_mask.cuda()\n",
    "        \n",
    "        current_Q = network(batch_state).gather(1, batch_action)\n",
    "        \n",
    "        with torch.no_grad():\n",
    "            if double_dqn:\n",
    "                # Get actions \"a_t\" from network\n",
    "                next_state_actions = network(batch_next_state).max(1, keepdim=True)[1]\n",
    "                # Get value \"Q(s, a_t)\" from target\n",
    "                next_Q = target_network(batch_next_state).gather(1, next_state_actions)\n",
    "            else:\n",
    "                next_Q = target_network(batch_next_state).max(1, keepdim=True)[0]\n",
    "            target_Q = batch_reward + (gamma * next_Q) * not_done_mask\n",
    "            \n",
    "        # Smooth L1 loss acts like L2 near the optimum, yet like L1 when far from it.\n",
    "        # While the real objective is the L2, empirically this results in a more stable training regime\n",
    "        # as the L1 is less sensitive to outliers.\n",
    "        loss = F.smooth_l1_loss(current_Q, target_Q)\n",
    "        \n",
    "        optimizer.zero_grad()\n",
    "        loss.backward()\n",
    "        optimizer.step()\n",
    "        losses.append(loss.item())\n",
    "        losses_steps.append(step)\n",
    "        network.eval()\n",
    "    \n",
    "        if step % target_update_freq == 0:\n",
    "            target_network.load_state_dict(network.state_dict())\n",
    "    \n",
    "        if step % eval_freq == 0:\n",
    "            total_reward = 0\n",
    "            for eval_ep in range(eval_episodes):\n",
    "                eval_env.reset()\n",
    "                eval_state = torch.zeros((hist_len, 40, 40)).float()\n",
    "                if use_cuda:\n",
    "                    eval_state = eval_state.cuda()\n",
    "                while True:\n",
    "                    eval_state = get_screen(eval_env, eval_state)\n",
    "                    action = network(eval_state.unsqueeze(0)).max(1)[1].item()\n",
    "                    if random.random() < 0.01:\n",
    "                        action = random.randrange(output_size)\n",
    "                    _, eval_reward, done, _ = eval_env.step(action)\n",
    "                    \n",
    "                    total_reward += eval_reward\n",
    "                    if done:\n",
    "                        break\n",
    "        \n",
    "            average_reward = total_reward * 1.0 / eval_episodes\n",
    "            average_rewards.append(average_reward)\n",
    "            avg_rew_steps.append(step)\n",
    "    \n",
    "        if step % 1000 == 0:\n",
    "            clear_output()\n",
    "            pl.plot(losses_steps, losses)\n",
    "            pl.title('Loss')\n",
    "            pl.show()\n",
    "            pl.plot(avg_rew_steps, average_rewards)\n",
    "            pl.title('Reward')\n",
    "            pl.show()\n",
    "            pl.plot(successes_steps, successes)\n",
    "            pl.title('Successes')\n",
    "            pl.show()\n",
    "        \n",
    "            results = dict()\n",
    "            results['average_rewards'] = average_rewards\n",
    "            results['avg_rew_steps'] = avg_rew_steps\n",
    "            results['successes'] = successes\n",
    "            results['successes_steps'] = successes_steps\n",
    "            results['losses'] = losses\n",
    "            results['losses_steps'] = losses_steps\n",
    "\n",
    "            with open(os.getcwd() + '/results' + ('_batch_norm' if batch_norm else ''), 'wb') as f:\n",
    "                pickle.dump(results, f)\n",
    "\n",
    "            torch.save(network.state_dict(), 'dqn' + ('_batch_norm' if batch_norm else ''))\n",
    "\n",
    "results = dict()\n",
    "results['average_rewards'] = average_rewards\n",
    "results['avg_rew_steps'] = avg_rew_steps\n",
    "results['successes'] = successes\n",
    "results['successes_steps'] = successes_steps\n",
    "results['losses'] = losses\n",
    "results['losses_steps'] = losses_steps\n",
    "\n",
    "with open(os.getcwd() + '/results' + ('_batch_norm' if batch_norm else ''), 'wb') as f:\n",
    "    pickle.dump(results, f)"
   ]
  },
  {
   "cell_type": "markdown",
   "metadata": {},
   "source": [
    "# Save network"
   ]
  },
  {
   "cell_type": "code",
   "execution_count": 9,
   "metadata": {},
   "outputs": [],
   "source": [
    "# torch.save(network.state_dict(), 'dqn' + ('_batch_norm' if batch_norm else ''))"
   ]
  },
  {
   "cell_type": "markdown",
   "metadata": {},
   "source": [
    "# Load network"
   ]
  },
  {
   "cell_type": "code",
   "execution_count": 16,
   "metadata": {},
   "outputs": [],
   "source": [
    "network.load_state_dict(torch.load('dqn' + ('_batch_norm' if batch_norm else '')))"
   ]
  },
  {
   "cell_type": "code",
   "execution_count": 17,
   "metadata": {},
   "outputs": [
    {
     "data": {
      "text/plain": [
       "DQN_CNN(\n",
       "  (sequential): Sequential(\n",
       "    (0): Conv2d(4, 32, kernel_size=(5, 5), stride=(2, 2))\n",
       "    (1): ReLU()\n",
       "    (2): BatchNorm2d(32, eps=1e-05, momentum=0.1, affine=True, track_running_stats=True)\n",
       "    (3): Conv2d(32, 32, kernel_size=(5, 5), stride=(2, 2))\n",
       "    (4): ReLU()\n",
       "    (5): BatchNorm2d(32, eps=1e-05, momentum=0.1, affine=True, track_running_stats=True)\n",
       "    (6): Conv2d(32, 32, kernel_size=(5, 5), stride=(2, 2))\n",
       "    (7): ReLU()\n",
       "    (8): BatchNorm2d(32, eps=1e-05, momentum=0.1, affine=True, track_running_stats=True)\n",
       "    (9): Flatten()\n",
       "    (10): ReLU()\n",
       "    (11): Linear(in_features=128, out_features=3, bias=True)\n",
       "  )\n",
       ")"
      ]
     },
     "execution_count": 17,
     "metadata": {},
     "output_type": "execute_result"
    }
   ],
   "source": [
    "network.eval()"
   ]
  },
  {
   "cell_type": "markdown",
   "metadata": {},
   "source": [
    "# Evaluate network with mean and std outputs"
   ]
  },
  {
   "cell_type": "code",
   "execution_count": 38,
   "metadata": {},
   "outputs": [
    {
     "name": "stdout",
     "output_type": "stream",
     "text": [
      "Average reward: -147.68\n",
      "STD: 33.334030659372715\n"
     ]
    }
   ],
   "source": [
    "rews = []\n",
    "for _ in range(100):\n",
    "    eval_env.reset()\n",
    "    eval_state = torch.zeros((hist_len, 40, 40)).float()\n",
    "    if use_cuda:\n",
    "        eval_state = eval_state.cuda()\n",
    "    rew = 0\n",
    "    while True:\n",
    "        eval_state = get_screen(eval_env, eval_state)\n",
    "\n",
    "        q_vals = network(eval_state.unsqueeze(0))\n",
    "        action = q_vals.max(1)[1].item()\n",
    "        _, reward, done, _ = eval_env.step(action)\n",
    "\n",
    "        rew += reward\n",
    "        \n",
    "        if done:\n",
    "            break\n",
    "    rews.append(rew)\n",
    "print('Average reward: ' + str(np.mean(rews)))\n",
    "print('STD: ' + str(np.std(rews)))"
   ]
  },
  {
   "cell_type": "markdown",
   "metadata": {},
   "source": [
    "# Create video"
   ]
  },
  {
   "cell_type": "code",
   "execution_count": 18,
   "metadata": {},
   "outputs": [],
   "source": [
    "import imageio\n",
    "images = []\n",
    "\n",
    "eval_env.reset()\n",
    "eval_state = torch.zeros((hist_len, 40, 40)).float()\n",
    "if use_cuda:\n",
    "    eval_state = eval_state.cuda()\n",
    "while True:\n",
    "    eval_state = get_screen(eval_env, eval_state)\n",
    "\n",
    "    images.append(eval_env.render(mode='rgb_array'))\n",
    "    \n",
    "    q_vals = network(eval_state.unsqueeze(0))\n",
    "    action = q_vals.max(1)[1].item()\n",
    "    _, reward, done, _ = eval_env.step(action)\n",
    "\n",
    "    if done:\n",
    "        break\n",
    "imageio.mimsave('acrobot.gif', images)"
   ]
  },
  {
   "cell_type": "markdown",
   "metadata": {},
   "source": [
    "# Load and plot graph data"
   ]
  },
  {
   "cell_type": "code",
   "execution_count": 35,
   "metadata": {},
   "outputs": [
    {
     "data": {
      "image/png": "[encoded data removed]",
      "text/plain": [
       "<Figure size 432x288 with 1 Axes>"
      ]
     },
     "metadata": {},
     "output_type": "display_data"
    },
    {
     "data": {
      "image/png": "[encoded data removed]",
      "text/plain": [
       "<Figure size 432x288 with 1 Axes>"
      ]
     },
     "metadata": {},
     "output_type": "display_data"
    },
    {
     "data": {
      "image/png": "[encoded data removed]",
      "text/plain": [
       "<Figure size 432x288 with 1 Axes>"
      ]
     },
     "metadata": {},
     "output_type": "display_data"
    }
   ],
   "source": [
    "with open(os.getcwd() + '/results' + ('_batch_norm' if batch_norm else ''), 'rb') as f:\n",
    "    results = pickle.load(f)\n",
    "    \n",
    "pl.plot(results['losses_steps'], results['losses'])\n",
    "pl.title('Loss')\n",
    "pl.xlabel('Steps')\n",
    "pl.show()\n",
    "pl.plot(results['avg_rew_steps'], results['average_rewards'])\n",
    "pl.title('Reward')\n",
    "pl.ylabel('Value')\n",
    "pl.xlabel('Steps')\n",
    "pl.show()\n",
    "pl.plot(results['successes_steps'], results['successes'])\n",
    "pl.title('Successes')\n",
    "pl.xlabel('Steps')\n",
    "pl.show()"
   ]
  }
 ],
 "metadata": {
  "kernelspec": {
   "display_name": "Python 3",
   "language": "python",
   "name": "python3"
  },
  "language_info": {
   "codemirror_mode": {
    "name": "ipython",
    "version": 3
   },
   "file_extension": ".py",
   "mimetype": "text/x-python",
   "name": "python",
   "nbconvert_exporter": "python",
   "pygments_lexer": "ipython3",
   "version": "3.6.5"
  }
 },
 "nbformat": 4,
 "nbformat_minor": 2
}
