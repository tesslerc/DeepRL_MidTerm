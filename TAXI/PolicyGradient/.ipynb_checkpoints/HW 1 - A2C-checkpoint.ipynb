{
 "cells": [
  {
   "cell_type": "code",
   "execution_count": 1,
   "metadata": {},
   "outputs": [],
   "source": [
    "%matplotlib inline\n",
    "\n",
    "import torch\n",
    "import torch.nn as nn\n",
    "from torch import optim\n",
    "import torch.nn.functional as F\n",
    "import gym\n",
    "import numpy as np\n",
    "from collections import namedtuple\n",
    "import random\n",
    "from matplotlib import pyplot as plt\n",
    "from IPython.display import clear_output\n",
    "from baselines.common.vec_env.subproc_vec_env import SubprocVecEnv\n",
    "from baselines.common.vec_env.dummy_vec_env import DummyVecEnv"
   ]
  },
  {
   "cell_type": "markdown",
   "metadata": {},
   "source": [
    "# Helper function to create vec-envs"
   ]
  },
  {
   "cell_type": "code",
   "execution_count": 2,
   "metadata": {},
   "outputs": [],
   "source": [
    "def make_env(seed):\n",
    "    def _func():\n",
    "        env = gym.make('Taxi-v2')\n",
    "        env.seed(seed)\n",
    "        obs_shape = env.observation_space.shape\n",
    " \n",
    "        return env\n",
    "    return _func"
   ]
  },
  {
   "cell_type": "markdown",
   "metadata": {},
   "source": [
    "# Hyper-parameters"
   ]
  },
  {
   "cell_type": "code",
   "execution_count": 4,
   "metadata": {},
   "outputs": [],
   "source": [
    "# General parameters.\n",
    "mem_capacity = 20000\n",
    "lr = 0.01\n",
    "hidden_layer = 50\n",
    "gamma = 0.99\n",
    "num_steps = 2e6\n",
    "\n",
    "# Number of parallel agents.\n",
    "num_processes = 64\n",
    "\n",
    "# How many rollout steps before taking the gradients (e.g., monte-carlo sampling trajectory length).\n",
    "rollout_steps = 40\n",
    "\n",
    "# Decay entropy coeff linearly over entropy_decay_steps steps, starting from entropy_start down to entropy_end.\n",
    "entropy_start = 10.0\n",
    "entropy_end = 0\n",
    "entropy_decay_steps = 1e6\n",
    "\n",
    "# Critic coefficient value.\n",
    "value_coeff = 0.5\n",
    "\n",
    "# GAE coefficient.\n",
    "lambd = 0.95\n",
    "\n",
    "# Previous experiments showed that Dropout did not help, thus we leave it turned off.\n",
    "dropout = 0"
   ]
  },
  {
   "cell_type": "markdown",
   "metadata": {},
   "source": [
    "# Create environments"
   ]
  },
  {
   "cell_type": "code",
   "execution_count": 5,
   "metadata": {},
   "outputs": [],
   "source": [
    "envs = [make_env(i) for i in range(num_processes)]\n",
    "if len(envs) > 1:\n",
    "    envs = SubprocVecEnv(envs)\n",
    "else:\n",
    "    envs = DummyVecEnv(envs)\n",
    "\n",
    "input_size = envs.observation_space.n\n",
    "output_size = envs.action_space.n\n",
    "    \n",
    "Transition = namedtuple('Transition', ('state', 'action', 'reward', 'next_state', 'done'))"
   ]
  },
  {
   "cell_type": "markdown",
   "metadata": {},
   "source": [
    "# Actor critic networks definition (separate networks)"
   ]
  },
  {
   "cell_type": "code",
   "execution_count": 6,
   "metadata": {},
   "outputs": [],
   "source": [
    "class ACTOR_MLP(nn.Module):\n",
    "    def __init__(self, in_size, out_size, hidden_size, dropout_prob):\n",
    "        super().__init__()\n",
    "        self.lin1 = nn.Linear(in_size, hidden_size)\n",
    "        self.dropout1 = nn.Dropout(dropout_prob)\n",
    "        self.lin2 = nn.Linear(hidden_size, out_size)\n",
    "        self.dropout2 = nn.Dropout(dropout_prob)\n",
    "        \n",
    "        self.softmax = nn.Softmax(dim=1)\n",
    "        self.log_softmax = nn.LogSoftmax(dim=1)\n",
    "\n",
    "    def forward(self, x):\n",
    "        x = x.view(x.size(0), -1)\n",
    "        x = self.dropout1(F.relu(self.lin1(x)))\n",
    "        x = self.dropout2(self.lin2(x))\n",
    "        return x\n",
    "    \n",
    "class CRITIC_MLP(nn.Module):\n",
    "    def __init__(self, in_size, hidden_size, dropout_prob):\n",
    "        super().__init__()\n",
    "        self.lin1 = nn.Linear(in_size, hidden_size)\n",
    "        self.dropout1 = nn.Dropout(dropout_prob)\n",
    "        self.lin2 = nn.Linear(hidden_size, 1)\n",
    "        self.dropout2 = nn.Dropout(dropout_prob)\n",
    "\n",
    "    def forward(self, x):\n",
    "        x = x.view(x.size(0), -1)\n",
    "        x = self.dropout1(F.relu(self.lin1(x)))\n",
    "        return self.dropout2(self.lin2(x))\n",
    "\n",
    "# Smarter weight initialization scheme, works better than the default one provided by PyTorch.\n",
    "def init_weights(m):\n",
    "    classname = m.__class__.__name__\n",
    "    if classname.find('Conv') != -1:\n",
    "        weight_shape = list(m.weight.data.size())\n",
    "        fan_in = np.prod(weight_shape[1:4])\n",
    "        fan_out = np.prod(weight_shape[2:4]) * weight_shape[0]\n",
    "        w_bound = np.sqrt(6. / (fan_in + fan_out))\n",
    "        m.weight.data.uniform_(-w_bound, w_bound)\n",
    "        m.bias.data.fill_(0)\n",
    "    elif classname.find('Linear') != -1:\n",
    "        weight_shape = list(m.weight.data.size())\n",
    "        fan_in = weight_shape[1]\n",
    "        fan_out = weight_shape[0]\n",
    "        w_bound = np.sqrt(6. / (fan_in + fan_out))\n",
    "        m.weight.data.uniform_(-w_bound, w_bound)\n",
    "        m.bias.data.fill_(0)"
   ]
  },
  {
   "cell_type": "markdown",
   "metadata": {},
   "source": [
    "# Initialize network, target, replaymemory and optimizer"
   ]
  },
  {
   "cell_type": "code",
   "execution_count": 7,
   "metadata": {},
   "outputs": [],
   "source": [
    "actor = ACTOR_MLP(input_size, output_size, hidden_layer, dropout)\n",
    "actor.apply(init_weights)\n",
    "\n",
    "critic = CRITIC_MLP(input_size, hidden_layer, dropout)\n",
    "critic.apply(init_weights)\n",
    "\n",
    "actor_optimizer = optim.Adam(actor.parameters(), lr=lr)\n",
    "critic_optimizer = optim.Adam(critic.parameters(), lr=lr)"
   ]
  },
  {
   "cell_type": "markdown",
   "metadata": {},
   "source": [
    "# Given samples, calculates the running mean and STD for better visualization"
   ]
  },
  {
   "cell_type": "code",
   "execution_count": 7,
   "metadata": {},
   "outputs": [],
   "source": [
    "def mean_std_groups(x, y, group_size):\n",
    "    num_groups = int(len(x) / group_size)\n",
    "\n",
    "    x, x_tail = x[:group_size * num_groups], x[group_size * num_groups:]\n",
    "    x = x.reshape((num_groups, group_size))\n",
    "\n",
    "    y, y_tail = y[:group_size * num_groups], y[group_size * num_groups:]\n",
    "    y = y.reshape((num_groups, group_size))\n",
    "\n",
    "    x_means = x.mean(axis=1)\n",
    "    x_stds = x.std(axis=1)\n",
    "\n",
    "    if len(x_tail) > 0:\n",
    "        x_means = np.concatenate([x_means, x_tail.mean(axis=0, keepdims=True)])\n",
    "        x_stds = np.concatenate([x_stds, x_tail.std(axis=0, keepdims=True)])\n",
    "\n",
    "    y_means = y.mean(axis=1)\n",
    "    y_stds = y.std(axis=1)\n",
    "\n",
    "    if len(y_tail) > 0:\n",
    "        y_means = np.concatenate([y_means, y_tail.mean(axis=0, keepdims=True)])\n",
    "        y_stds = np.concatenate([y_stds, y_tail.std(axis=0, keepdims=True)])\n",
    "\n",
    "    return x_means, x_stds, y_means, y_stds"
   ]
  },
  {
   "cell_type": "markdown",
   "metadata": {},
   "source": [
    "# Convert list of indices into list of state-vectors"
   ]
  },
  {
   "cell_type": "code",
   "execution_count": 8,
   "metadata": {},
   "outputs": [],
   "source": [
    "def make_state(indices):\n",
    "    state = torch.zeros([num_processes, input_size], dtype=torch.float32)\n",
    "    state[[i for i in range(num_processes)], indices] = 1\n",
    "    return state"
   ]
  },
  {
   "cell_type": "markdown",
   "metadata": {},
   "source": [
    "# Given \"rollout_steps\" samples, calculate advantages and deltas for actor-critic training"
   ]
  },
  {
   "cell_type": "code",
   "execution_count": 9,
   "metadata": {},
   "outputs": [],
   "source": [
    "def process_rollout(steps):\n",
    "    # bootstrap discounted returns with final value estimates\n",
    "    _, _, _, _, last_values = steps[-1]\n",
    "    returns = last_values.data\n",
    "\n",
    "    advantages = torch.zeros(num_processes, 1)\n",
    "\n",
    "    out = [None] * (len(steps) - 1)\n",
    "\n",
    "    # run Generalized Advantage Estimation, calculate returns, advantages\n",
    "    for t in reversed(range(len(steps) - 1)):\n",
    "        rewards, masks, actions, policies, values = steps[t]\n",
    "        _, _, _, _, next_values = steps[t + 1]\n",
    "\n",
    "        returns = rewards + returns * gamma * masks\n",
    "\n",
    "        deltas = rewards + next_values.data * gamma * masks - values.data\n",
    "        advantages = advantages * gamma * lambd * masks + deltas\n",
    "\n",
    "        out[t] = actions, policies, values, returns, advantages\n",
    "\n",
    "    # return data as batched Tensors, Variables\n",
    "    return map(lambda x: torch.cat(x, 0), zip(*out))"
   ]
  },
  {
   "cell_type": "markdown",
   "metadata": {},
   "source": [
    "# Training"
   ]
  },
  {
   "cell_type": "code",
   "execution_count": null,
   "metadata": {},
   "outputs": [
    {
     "data": {
      "image/png": "[encoded data removed]",
      "text/plain": [
       "<Figure size 576x432 with 1 Axes>"
      ]
     },
     "metadata": {},
     "output_type": "display_data"
    },
    {
     "name": "stdout",
     "output_type": "stream",
     "text": [
      "Mean: 8.0, Std: 3.366501646120693\n"
     ]
    }
   ],
   "source": [
    "state_idx = envs.reset()\n",
    "\n",
    "total_steps_plt = []\n",
    "ep_reward_plt = []\n",
    "\n",
    "steps = []\n",
    "total_steps = 0\n",
    "ep_rewards = [0.] * num_processes\n",
    "render_timer = 0\n",
    "plot_timer = 0\n",
    "while total_steps < num_steps:\n",
    "    for _ in range(rollout_steps):\n",
    "        obs = make_state(state_idx)\n",
    "\n",
    "        policies = actor(obs)\n",
    "        probs = F.softmax(policies)\n",
    "        # Sample action from stochastic policy\n",
    "        actions = probs.multinomial(1).data\n",
    "\n",
    "        values = critic(obs)\n",
    "\n",
    "        state_idx, rewards, dones, _ = envs.step(actions.squeeze(-1).cpu().numpy())\n",
    "        masks = (1. - torch.from_numpy(np.array(dones, dtype=np.float32))).unsqueeze(1)\n",
    "\n",
    "        total_steps += num_processes\n",
    "        # For each process done, add the episode reward to our list\n",
    "        for i, done in enumerate(dones):\n",
    "            ep_rewards[i] += rewards[i]\n",
    "            if done:\n",
    "                total_steps_plt.append(total_steps)\n",
    "                ep_reward_plt.append(ep_rewards[i])\n",
    "                ep_rewards[i] = 0\n",
    "\n",
    "        plot_timer += num_processes # time on total steps\n",
    "        \n",
    "        if plot_timer >= 100000:  # Re-plot graphs\n",
    "            clear_output()\n",
    "            x_means, _, y_means, y_stds = mean_std_groups(np.array(total_steps_plt), np.array(ep_reward_plt), 10)\n",
    "            fig = plt.figure()\n",
    "            fig.set_size_inches(8, 6)\n",
    "            plt.ticklabel_format(axis='x', style='sci', scilimits=(-2, 6))\n",
    "            plt.errorbar(x_means, y_means, yerr=y_stds, ecolor='xkcd:blue', fmt='xkcd:black', capsize=5, elinewidth=1.5, mew=1.5, linewidth=1.5)\n",
    "            plt.title('Training progress (%s)' % 'Taxi-v2')\n",
    "            plt.xlabel('Total steps')\n",
    "            plt.ylabel('Episode reward')\n",
    "            plt.show()\n",
    "            plot_timer = 0\n",
    "            \n",
    "            print('Mean: ' + str(y_means[-1]) + ', Std: ' + str(y_stds[-1]))\n",
    "\n",
    "        rewards = torch.from_numpy(rewards).float().unsqueeze(1)\n",
    "\n",
    "        steps.append((rewards, masks, actions, policies, values))\n",
    "\n",
    "    # At the final step of the rollout, add the bootstrap value\n",
    "    final_obs = make_state(state_idx)\n",
    "    final_values = critic(final_obs)\n",
    "    steps.append((None, None, None, None, final_values))\n",
    "\n",
    "    actions, policies, values, returns, advantages = process_rollout(steps)\n",
    "\n",
    "    # calculate action probabilities\n",
    "    probs = F.softmax(policies)\n",
    "    log_probs = F.log_softmax(policies)\n",
    "    log_action_probs = log_probs.gather(1, actions.detach())\n",
    "\n",
    "    policy_loss = (-log_action_probs * advantages.detach()).sum()\n",
    "    value_loss = F.smooth_l1_loss(values, returns.detach())\n",
    "    entropy_loss = (log_probs * probs).sum()\n",
    "\n",
    "    # get updated entropy coefficient\n",
    "    entropy_coeff = max(entropy_end, entropy_start * (1 - total_steps * 1.0 / entropy_decay_steps) + entropy_end * total_steps * 1.0 / entropy_decay_steps)\n",
    "    \n",
    "    actor_loss = policy_loss + entropy_loss * entropy_coeff\n",
    "    actor_loss.backward()\n",
    "    actor_optimizer.step()\n",
    "    actor_optimizer.zero_grad()\n",
    "    \n",
    "    critic_loss = value_loss * value_coeff\n",
    "    critic_loss.backward()\n",
    "    critic_optimizer.step()\n",
    "    critic_optimizer.zero_grad()\n",
    "\n",
    "    steps = []\n",
    "\n",
    "envs.close()"
   ]
  },
  {
   "cell_type": "markdown",
   "metadata": {},
   "source": [
    "# Save network"
   ]
  },
  {
   "cell_type": "code",
   "execution_count": 1,
   "metadata": {},
   "outputs": [],
   "source": [
    "# torch.save(actor.state_dict(), 'a2c')  # only save actor since we don't care about the critic during evaluation"
   ]
  },
  {
   "cell_type": "markdown",
   "metadata": {},
   "source": [
    "# Load network"
   ]
  },
  {
   "cell_type": "code",
   "execution_count": 8,
   "metadata": {},
   "outputs": [],
   "source": [
    "actor.load_state_dict(torch.load('a2c'))"
   ]
  },
  {
   "cell_type": "markdown",
   "metadata": {},
   "source": [
    "# Evaluate network (one run with visualization)"
   ]
  },
  {
   "cell_type": "code",
   "execution_count": 11,
   "metadata": {
    "scrolled": true
   },
   "outputs": [
    {
     "name": "stdout",
     "output_type": "stream",
     "text": [
      "+---------+\n",
      "|\u001b[35mR\u001b[0m: | : :G|\n",
      "| : : : : |\n",
      "| : : : : |\n",
      "|\u001b[43m \u001b[0m| : | : |\n",
      "|\u001b[34;1mY\u001b[0m| : |B: |\n",
      "+---------+\n",
      "\n",
      "0\n",
      "+---------+\n",
      "|\u001b[35mR\u001b[0m: | : :G|\n",
      "| : : : : |\n",
      "| : : : : |\n",
      "| | : | : |\n",
      "|\u001b[34;1m\u001b[43mY\u001b[0m\u001b[0m| : |B: |\n",
      "+---------+\n",
      "  (South)\n",
      "4\n",
      "+---------+\n",
      "|\u001b[35mR\u001b[0m: | : :G|\n",
      "| : : : : |\n",
      "| : : : : |\n",
      "| | : | : |\n",
      "|\u001b[42mY\u001b[0m| : |B: |\n",
      "+---------+\n",
      "  (Pickup)\n",
      "1\n",
      "+---------+\n",
      "|\u001b[35mR\u001b[0m: | : :G|\n",
      "| : : : : |\n",
      "| : : : : |\n",
      "|\u001b[42m_\u001b[0m| : | : |\n",
      "|Y| : |B: |\n",
      "+---------+\n",
      "  (North)\n",
      "1\n",
      "+---------+\n",
      "|\u001b[35mR\u001b[0m: | : :G|\n",
      "| : : : : |\n",
      "|\u001b[42m_\u001b[0m: : : : |\n",
      "| | : | : |\n",
      "|Y| : |B: |\n",
      "+---------+\n",
      "  (North)\n",
      "1\n",
      "+---------+\n",
      "|\u001b[35mR\u001b[0m: | : :G|\n",
      "|\u001b[42m_\u001b[0m: : : : |\n",
      "| : : : : |\n",
      "| | : | : |\n",
      "|Y| : |B: |\n",
      "+---------+\n",
      "  (North)\n",
      "1\n",
      "+---------+\n",
      "|\u001b[35m\u001b[42mR\u001b[0m\u001b[0m: | : :G|\n",
      "| : : : : |\n",
      "| : : : : |\n",
      "| | : | : |\n",
      "|Y| : |B: |\n",
      "+---------+\n",
      "  (North)\n",
      "5\n",
      "+---------+\n",
      "|\u001b[35m\u001b[42mR\u001b[0m\u001b[0m: | : :G|\n",
      "| : : : : |\n",
      "| : : : : |\n",
      "| | : | : |\n",
      "|Y| : |B: |\n",
      "+---------+\n",
      "  (Dropoff)\n"
     ]
    },
    {
     "name": "stderr",
     "output_type": "stream",
     "text": [
      "/home/chen/anaconda3/lib/python3.6/site-packages/ipykernel_launcher.py:9: UserWarning: Implicit dimension choice for softmax has been deprecated. Change the call to include dim=X as an argument.\n",
      "  if __name__ == '__main__':\n"
     ]
    }
   ],
   "source": [
    "eval_env = gym.make('Taxi-v2')\n",
    "eval_state_idx = eval_env.reset()\n",
    "while True:\n",
    "    eval_env.render()\n",
    "    eval_state = torch.zeros([input_size], dtype=torch.float32)\n",
    "    eval_state[eval_state_idx] = 1\n",
    "\n",
    "    policies = actor(eval_state.unsqueeze(0))\n",
    "    probs = F.softmax(policies)\n",
    "    actions = probs.multinomial(1).data\n",
    "    eval_state_idx, reward, done, _ = eval_env.step(actions.item())\n",
    "\n",
    "    if done:\n",
    "        break\n",
    "eval_env.render()"
   ]
  },
  {
   "cell_type": "markdown",
   "metadata": {},
   "source": [
    "# Evaluate network with mean and std outputs"
   ]
  },
  {
   "cell_type": "code",
   "execution_count": 13,
   "metadata": {},
   "outputs": [
    {
     "name": "stderr",
     "output_type": "stream",
     "text": [
      "/home/chen/anaconda3/lib/python3.6/site-packages/ipykernel_launcher.py:10: UserWarning: Implicit dimension choice for softmax has been deprecated. Change the call to include dim=X as an argument.\n",
      "  # Remove the CWD from sys.path while we load stuff.\n"
     ]
    },
    {
     "name": "stdout",
     "output_type": "stream",
     "text": [
      "Average reward: 8.536\n",
      "STD: 2.5291706150435957\n"
     ]
    }
   ],
   "source": [
    "rews = []\n",
    "for _ in range(1000):\n",
    "    eval_state_idx = eval_env.reset()\n",
    "    rew = 0\n",
    "    while True:\n",
    "        eval_state = torch.zeros([input_size], dtype=torch.float32)\n",
    "        eval_state[eval_state_idx] = 1\n",
    "\n",
    "        policies = actor(eval_state.unsqueeze(0))\n",
    "        probs = F.softmax(policies)\n",
    "        actions = probs.multinomial(1).data\n",
    "    \n",
    "        eval_state_idx, reward, done, _ = eval_env.step(actions.item())\n",
    "\n",
    "        rew += reward\n",
    "        \n",
    "        if done:\n",
    "            break\n",
    "    rews.append(rew)\n",
    "print('Average reward: ' + str(np.mean(rews)))\n",
    "print('STD: ' + str(np.std(rews)))"
   ]
  }
 ],
 "metadata": {
  "kernelspec": {
   "display_name": "Python 3",
   "language": "python",
   "name": "python3"
  },
  "language_info": {
   "codemirror_mode": {
    "name": "ipython",
    "version": 3
   },
   "file_extension": ".py",
   "mimetype": "text/x-python",
   "name": "python",
   "nbconvert_exporter": "python",
   "pygments_lexer": "ipython3",
   "version": "3.6.5"
  }
 },
 "nbformat": 4,
 "nbformat_minor": 2
}
