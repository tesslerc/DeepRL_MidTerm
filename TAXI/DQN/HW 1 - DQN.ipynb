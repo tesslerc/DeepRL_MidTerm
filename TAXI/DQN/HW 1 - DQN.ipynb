{
 "cells": [
  {
   "cell_type": "code",
   "execution_count": 1,
   "metadata": {},
   "outputs": [],
   "source": [
    "%matplotlib inline\n",
    "\n",
    "import torch\n",
    "import torch.nn as nn\n",
    "from torch import optim\n",
    "import torch.nn.functional as F\n",
    "import gym\n",
    "import numpy as np\n",
    "from collections import namedtuple\n",
    "import random\n",
    "from matplotlib import pyplot as pl\n",
    "from IPython.display import clear_output"
   ]
  },
  {
   "cell_type": "markdown",
   "metadata": {},
   "source": [
    "# Initialize environment"
   ]
  },
  {
   "cell_type": "code",
   "execution_count": 2,
   "metadata": {},
   "outputs": [],
   "source": [
    "env = gym.make('Taxi-v2')\n",
    "eval_env = gym.make('Taxi-v2')\n",
    "Transition = namedtuple('Transition', ('state', 'action', 'reward', 'next_state', 'done'))"
   ]
  },
  {
   "cell_type": "markdown",
   "metadata": {},
   "source": [
    "# Hyper-parameters"
   ]
  },
  {
   "cell_type": "code",
   "execution_count": 3,
   "metadata": {},
   "outputs": [],
   "source": [
    "# Task parameters.\n",
    "input_size = env.observation_space.n\n",
    "output_size = env.action_space.n\n",
    "\n",
    "# General parameters.\n",
    "mem_capacity = 20000\n",
    "batch = 256\n",
    "lr = 0.005\n",
    "hidden_layer = 50\n",
    "gamma = 0.99\n",
    "num_steps = 50000\n",
    "\n",
    "# Experimentally we found that double q learning did not improve performance in this task.\n",
    "double_dqn = False\n",
    "\n",
    "# How often, in steps, to update the target network.\n",
    "target_update_freq = 500\n",
    "\n",
    "# Number of random steps, to gather training data, before learning begins.\n",
    "learn_start = 10000\n",
    "\n",
    "# How often, in steps, to evaluate the network, and for how many episodes.\n",
    "eval_freq = 300\n",
    "eval_episodes = 10\n",
    "\n",
    "# Decay exploration coefficient linearly over eps_decay steps, down to the value of eps_end.\n",
    "eps_decay = 10000\n",
    "eps_end = 0.1\n",
    "\n",
    "# Previous experiments showed that L1 and Dropout do not help, thus we leave them turned off.\n",
    "l1_regularization = 0\n",
    "dropout = 0"
   ]
  },
  {
   "cell_type": "markdown",
   "metadata": {},
   "source": [
    "# Network definition"
   ]
  },
  {
   "cell_type": "code",
   "execution_count": 4,
   "metadata": {},
   "outputs": [],
   "source": [
    "class DQN_MLP(nn.Module):\n",
    "    def __init__(self, in_size, out_size, hidden_size, dropout_prob):\n",
    "        super().__init__()\n",
    "        self.lin1 = nn.Linear(in_size, hidden_size)\n",
    "        self.dropout1 = nn.Dropout(dropout_prob)\n",
    "        self.lin2 = nn.Linear(hidden_size, out_size)\n",
    "        self.dropout2 = nn.Dropout(dropout_prob)\n",
    "\n",
    "    def forward(self, x):\n",
    "        x = x.view(x.size(0), -1)\n",
    "        x = self.dropout1(F.relu(self.lin1(x)))\n",
    "        return self.dropout2(self.lin2(x))\n",
    "\n",
    "def init_weights(m):\n",
    "    classname = m.__class__.__name__\n",
    "    if classname.find('Conv') != -1:\n",
    "        weight_shape = list(m.weight.data.size())\n",
    "        fan_in = np.prod(weight_shape[1:4])\n",
    "        fan_out = np.prod(weight_shape[2:4]) * weight_shape[0]\n",
    "        w_bound = np.sqrt(6. / (fan_in + fan_out))\n",
    "        m.weight.data.uniform_(-w_bound, w_bound)\n",
    "        m.bias.data.fill_(0)\n",
    "    elif classname.find('Linear') != -1:\n",
    "        weight_shape = list(m.weight.data.size())\n",
    "        fan_in = weight_shape[1]\n",
    "        fan_out = weight_shape[0]\n",
    "        w_bound = np.sqrt(6. / (fan_in + fan_out))\n",
    "        m.weight.data.uniform_(-w_bound, w_bound)\n",
    "        m.bias.data.fill_(0)"
   ]
  },
  {
   "cell_type": "code",
   "execution_count": 5,
   "metadata": {},
   "outputs": [],
   "source": [
    "class ReplayBuffer:\n",
    "    def __init__(self, capacity):\n",
    "        self.capacity = capacity\n",
    "        self.memory = []\n",
    "        self.position = 0\n",
    "\n",
    "    def add(self, *args):\n",
    "        if len(self.memory) < self.capacity:\n",
    "            self.memory.append(None)\n",
    "        self.memory[self.position] = Transition(*args)\n",
    "        self.position = (self.position + 1) % self.capacity\n",
    "\n",
    "    def sample(self, batch_size):\n",
    "        mem_size = len(self.memory)\n",
    "        batch = random.sample(self.memory, batch_size)\n",
    "        batch_state, batch_action, batch_reward, batch_next_state, batch_done = zip(*batch)\n",
    "        return batch_state, batch_action, batch_reward, batch_next_state, batch_done\n",
    "\n",
    "    def __len__(self):\n",
    "        return len(self.memory)"
   ]
  },
  {
   "cell_type": "markdown",
   "metadata": {},
   "source": [
    "# Initialize network, target, replaymemory and optimizer"
   ]
  },
  {
   "cell_type": "code",
   "execution_count": 6,
   "metadata": {},
   "outputs": [],
   "source": [
    "network = DQN_MLP(input_size, output_size, hidden_layer, dropout)\n",
    "network.apply(init_weights)\n",
    "target_network = DQN_MLP(input_size, output_size, hidden_layer, dropout)\n",
    "target_network.load_state_dict(network.state_dict())\n",
    "memory = ReplayBuffer(mem_capacity)\n",
    "\n",
    "optimizer = optim.Adam(network.parameters(), lr=lr)"
   ]
  },
  {
   "cell_type": "markdown",
   "metadata": {},
   "source": [
    "print number of model parameters"
   ]
  },
  {
   "cell_type": "code",
   "execution_count": 7,
   "metadata": {},
   "outputs": [
    {
     "name": "stdout",
     "output_type": "stream",
     "text": [
      "25356\n"
     ]
    }
   ],
   "source": [
    "model_parameters = filter(lambda p: p.requires_grad, network.parameters())\n",
    "params = sum([np.prod(p.size()) for p in model_parameters])\n",
    "print(params)"
   ]
  },
  {
   "cell_type": "code",
   "execution_count": 8,
   "metadata": {},
   "outputs": [],
   "source": [
    "average_rewards = []\n",
    "avg_rew_steps = []\n",
    "losses = []\n",
    "losses_steps = []"
   ]
  },
  {
   "cell_type": "markdown",
   "metadata": {},
   "source": [
    "# Training"
   ]
  },
  {
   "cell_type": "code",
   "execution_count": 9,
   "metadata": {},
   "outputs": [
    {
     "data": {
      "image/png": "[encoded data removed]",
      "text/plain": [
       "<Figure size 432x288 with 1 Axes>"
      ]
     },
     "metadata": {},
     "output_type": "display_data"
    },
    {
     "data": {
      "image/png": "[encoded data removed]",
      "text/plain": [
       "<Figure size 432x288 with 1 Axes>"
      ]
     },
     "metadata": {},
     "output_type": "display_data"
    },
    {
     "name": "stdout",
     "output_type": "stream",
     "text": [
      "Step: 49200 Avg reward: 6.9\n",
      "Step: 49500 Avg reward: 8.8\n",
      "Step: 49800 Avg reward: 9.1\n"
     ]
    }
   ],
   "source": [
    "done = True\n",
    "for step in range(num_steps):\n",
    "    if done:\n",
    "        state_idx = env.reset()\n",
    "        state = torch.zeros([input_size], dtype=torch.float32)\n",
    "        state[state_idx] = 1\n",
    "        \n",
    "    action = network(state.unsqueeze(0)).max(1)[1].item()  # argmax_a Q(s_t, a)\n",
    "    eps = max((eps_decay - step + learn_start) / eps_decay, eps_end)\n",
    "    if random.random() < eps:  # take random action w.p. epsilon\n",
    "        action = env.action_space.sample()\n",
    "    \n",
    "    next_state_idx, reward, done, _ = env.step(action)\n",
    "    next_state = torch.zeros([input_size], dtype=torch.float32)\n",
    "    next_state[next_state_idx] = 1\n",
    "    \n",
    "    # \"Done due to timeout\" is a non-markovian property.\n",
    "    # This is an artifact which we would not like to learn from.\n",
    "    if not (done and reward < 0):\n",
    "        memory.add(state, action, reward, next_state, not done)\n",
    "    state = next_state\n",
    "    \n",
    "    if step > learn_start:\n",
    "        batch_state, batch_action, batch_reward, batch_next_state, not_done_mask = memory.sample(batch)\n",
    "        \n",
    "        batch_state = torch.stack(batch_state)\n",
    "        batch_next_state = torch.stack(batch_next_state)\n",
    "        batch_action = torch.tensor(batch_action, dtype=torch.int64).unsqueeze(-1)\n",
    "        batch_reward = torch.tensor(batch_reward, dtype=torch.float32).unsqueeze(-1)\n",
    "        not_done_mask = torch.tensor(not_done_mask, dtype=torch.float32).unsqueeze(-1)\n",
    "        \n",
    "        current_Q = network(batch_state).gather(1, batch_action)\n",
    "        \n",
    "        with torch.no_grad():\n",
    "            if double_dqn:\n",
    "                # Get actions \"a_t\" from network\n",
    "                next_state_actions = network(batch_next_state).max(1, keepdim=True)[1]\n",
    "                # Get value \"Q(s, a_t)\" from target\n",
    "                next_Q = target_network(batch_next_state).gather(1, next_state_actions)\n",
    "            else:\n",
    "                next_Q = target_network(batch_next_state).max(1, keepdim=True)[0]\n",
    "            target_Q = batch_reward + (gamma * next_Q) * not_done_mask\n",
    "            \n",
    "        # Smooth L1 loss acts like L2 near the optimum, yet like L1 when far from it.\n",
    "        # While the real objective is the L2, empirically this results in a more stable training regime\n",
    "        # as the L1 is less sensitive to outliers.\n",
    "        loss = F.smooth_l1_loss(current_Q, target_Q)\n",
    "        \n",
    "        # Add L1 regularization\n",
    "        all_params = torch.cat([x.view(-1) for x in network.parameters()])\n",
    "        loss += l1_regularization * torch.norm(all_params, 1)\n",
    "        \n",
    "        optimizer.zero_grad()\n",
    "        loss.backward()\n",
    "        optimizer.step()\n",
    "        losses.append(loss.item())\n",
    "        losses_steps.append(step)\n",
    "    \n",
    "    if step % target_update_freq == 0:\n",
    "        target_network.load_state_dict(network.state_dict())\n",
    "    \n",
    "    if step % eval_freq == 0 and step > learn_start:\n",
    "        network.eval()\n",
    "        total_reward = 0\n",
    "        for eval_ep in range(eval_episodes):\n",
    "            eval_state_idx = eval_env.reset()\n",
    "            while True:\n",
    "                eval_state = torch.zeros([input_size], dtype=torch.float32)\n",
    "                eval_state[eval_state_idx] = 1\n",
    "\n",
    "                action = network(eval_state.unsqueeze(0)).max(1)[1].item()\n",
    "                if random.random() < 0.01:\n",
    "                    action = random.randrange(output_size)\n",
    "                eval_state_idx, reward, done, _ = eval_env.step(action)\n",
    "                \n",
    "                total_reward += reward\n",
    "                if done:\n",
    "                    break\n",
    "        network.train()\n",
    "        \n",
    "        average_reward = total_reward * 1.0 / eval_episodes\n",
    "        average_rewards.append(average_reward)\n",
    "        avg_rew_steps.append(step)\n",
    "        print('Step: ' + str(step) + ' Avg reward: ' + str(average_reward))\n",
    "    \n",
    "    if step > learn_start and len(losses) > 0 and len(average_rewards) > 0 and step % 1000 == 0:\n",
    "        clear_output()\n",
    "        pl.plot(losses_steps, losses)\n",
    "        pl.title('Loss')\n",
    "        pl.show()\n",
    "        pl.plot(avg_rew_steps, average_rewards)\n",
    "        pl.title('Reward')\n",
    "        pl.show()"
   ]
  },
  {
   "cell_type": "markdown",
   "metadata": {},
   "source": [
    "# Save network"
   ]
  },
  {
   "cell_type": "code",
   "execution_count": 10,
   "metadata": {},
   "outputs": [],
   "source": [
    "# torch.save(network.state_dict(), 'dqn')"
   ]
  },
  {
   "cell_type": "markdown",
   "metadata": {},
   "source": [
    "# Load network"
   ]
  },
  {
   "cell_type": "code",
   "execution_count": 11,
   "metadata": {},
   "outputs": [],
   "source": [
    "network.load_state_dict(torch.load('dqn'))"
   ]
  },
  {
   "cell_type": "code",
   "execution_count": 12,
   "metadata": {},
   "outputs": [
    {
     "data": {
      "text/plain": [
       "DQN_MLP(\n",
       "  (lin1): Linear(in_features=500, out_features=50, bias=True)\n",
       "  (dropout1): Dropout(p=0)\n",
       "  (lin2): Linear(in_features=50, out_features=6, bias=True)\n",
       "  (dropout2): Dropout(p=0)\n",
       ")"
      ]
     },
     "execution_count": 12,
     "metadata": {},
     "output_type": "execute_result"
    }
   ],
   "source": [
    "network.eval()"
   ]
  },
  {
   "cell_type": "markdown",
   "metadata": {},
   "source": [
    "# Evaluate network (one run with visualization)"
   ]
  },
  {
   "cell_type": "code",
   "execution_count": 13,
   "metadata": {},
   "outputs": [
    {
     "name": "stdout",
     "output_type": "stream",
     "text": [
      "+---------+\n",
      "|R: | : :\u001b[35mG\u001b[0m|\n",
      "| : : : : |\n",
      "| : : : : |\n",
      "|\u001b[43m \u001b[0m| : | : |\n",
      "|\u001b[34;1mY\u001b[0m| : |B: |\n",
      "+---------+\n",
      "\n",
      "tensor([[ 8.5613,  6.4566,  7.4642,  7.4585, -1.5581, -1.5707]])\n",
      "+---------+\n",
      "|R: | : :\u001b[35mG\u001b[0m|\n",
      "| : : : : |\n",
      "| : : : : |\n",
      "| | : | : |\n",
      "|\u001b[34;1m\u001b[43mY\u001b[0m\u001b[0m| : |B: |\n",
      "+---------+\n",
      "  (South)\n",
      "tensor([[ 8.5917,  7.4330,  8.5618,  8.5441,  9.6562, -0.4561]])\n",
      "+---------+\n",
      "|R: | : :\u001b[35mG\u001b[0m|\n",
      "| : : : : |\n",
      "| : : : : |\n",
      "| | : | : |\n",
      "|\u001b[42mY\u001b[0m| : |B: |\n",
      "+---------+\n",
      "  (Pickup)\n",
      "tensor([[  9.6640,  10.9121,   9.7002,   9.6401,   0.8491,   8.5096]])\n",
      "+---------+\n",
      "|R: | : :\u001b[35mG\u001b[0m|\n",
      "| : : : : |\n",
      "| : : : : |\n",
      "|\u001b[42m_\u001b[0m| : | : |\n",
      "|Y| : |B: |\n",
      "+---------+\n",
      "  (North)\n",
      "tensor([[  9.6841,  11.9443,  10.9282,  10.8279,   1.9103,   1.9200]])\n",
      "+---------+\n",
      "|R: | : :\u001b[35mG\u001b[0m|\n",
      "| : : : : |\n",
      "|\u001b[42m_\u001b[0m: : : : |\n",
      "| | : | : |\n",
      "|Y| : |B: |\n",
      "+---------+\n",
      "  (North)\n",
      "tensor([[ 10.9034,  13.0000,  13.0385,  11.9274,   3.0072,   2.9374]])\n",
      "+---------+\n",
      "|R: | : :\u001b[35mG\u001b[0m|\n",
      "| : : : : |\n",
      "| :\u001b[42m_\u001b[0m: : : |\n",
      "| | : | : |\n",
      "|Y| : |B: |\n",
      "+---------+\n",
      "  (East)\n",
      "tensor([[ 11.8683,  14.2115,  14.1954,  11.9413,   4.0283,   4.0006]])\n",
      "+---------+\n",
      "|R: | : :\u001b[35mG\u001b[0m|\n",
      "| :\u001b[42m_\u001b[0m: : : |\n",
      "| : : : : |\n",
      "| | : | : |\n",
      "|Y| : |B: |\n",
      "+---------+\n",
      "  (North)\n",
      "tensor([[ 13.0329,  13.0055,  15.2992,  12.9816,   5.1829,   5.1664]])\n",
      "+---------+\n",
      "|R: | : :\u001b[35mG\u001b[0m|\n",
      "| : :\u001b[42m_\u001b[0m: : |\n",
      "| : : : : |\n",
      "| | : | : |\n",
      "|Y| : |B: |\n",
      "+---------+\n",
      "  (East)\n",
      "tensor([[ 14.1883,  16.4726,  16.4681,  14.1714,   6.3126,   6.2668]])\n",
      "+---------+\n",
      "|R: |\u001b[42m_\u001b[0m: :\u001b[35mG\u001b[0m|\n",
      "| : : : : |\n",
      "| : : : : |\n",
      "| | : | : |\n",
      "|Y| : |B: |\n",
      "+---------+\n",
      "  (North)\n",
      "tensor([[ 15.2868,  16.4504,  17.6566,  16.4198,   6.6215,   7.3671]])\n",
      "+---------+\n",
      "|R: | :\u001b[42m_\u001b[0m:\u001b[35mG\u001b[0m|\n",
      "| : : : : |\n",
      "| : : : : |\n",
      "| | : | : |\n",
      "|Y| : |B: |\n",
      "+---------+\n",
      "  (East)\n",
      "tensor([[ 16.4559,  17.6543,  18.7977,  16.4399,   8.6471,   8.6534]])\n",
      "+---------+\n",
      "|R: | : :\u001b[35m\u001b[42mG\u001b[0m\u001b[0m|\n",
      "| : : : : |\n",
      "| : : : : |\n",
      "| | : | : |\n",
      "|Y| : |B: |\n",
      "+---------+\n",
      "  (East)\n",
      "tensor([[ 17.6600,  18.8272,  18.8360,  17.6693,   9.8174,  19.9766]])\n",
      "+---------+\n",
      "|R: | : :\u001b[35m\u001b[42mG\u001b[0m\u001b[0m|\n",
      "| : : : : |\n",
      "| : : : : |\n",
      "| | : | : |\n",
      "|Y| : |B: |\n",
      "+---------+\n",
      "  (Dropoff)\n"
     ]
    }
   ],
   "source": [
    "eval_state_idx = eval_env.reset()\n",
    "while True:\n",
    "    eval_env.render()\n",
    "    eval_state = torch.zeros([input_size], dtype=torch.float32)\n",
    "    eval_state[eval_state_idx] = 1\n",
    "\n",
    "    q_vals = network(eval_state.unsqueeze(0))\n",
    "    print(q_vals)\n",
    "    action = q_vals.max(1)[1].item()\n",
    "    eval_state_idx, reward, done, _ = eval_env.step(action)\n",
    "\n",
    "    if done:\n",
    "        break\n",
    "eval_env.render()"
   ]
  },
  {
   "cell_type": "markdown",
   "metadata": {},
   "source": [
    "# Evaluate network with mean and std outputs"
   ]
  },
  {
   "cell_type": "code",
   "execution_count": 14,
   "metadata": {},
   "outputs": [
    {
     "name": "stdout",
     "output_type": "stream",
     "text": [
      "Average reward: 8.488\n",
      "STD: 2.363441558405877\n"
     ]
    }
   ],
   "source": [
    "rews = []\n",
    "for _ in range(1000):\n",
    "    eval_state_idx = eval_env.reset()\n",
    "    rew = 0\n",
    "    while True:\n",
    "        eval_state = torch.zeros([input_size], dtype=torch.float32)\n",
    "        eval_state[eval_state_idx] = 1\n",
    "\n",
    "        q_vals = network(eval_state.unsqueeze(0))\n",
    "        action = q_vals.max(1)[1].item()\n",
    "        eval_state_idx, reward, done, _ = eval_env.step(action)\n",
    "\n",
    "        rew += reward\n",
    "        \n",
    "        if done:\n",
    "            break\n",
    "    rews.append(rew)\n",
    "print('Average reward: ' + str(np.mean(rews)))\n",
    "print('STD: ' + str(np.std(rews)))"
   ]
  },
  {
   "cell_type": "code",
   "execution_count": null,
   "metadata": {},
   "outputs": [],
   "source": []
  }
 ],
 "metadata": {
  "kernelspec": {
   "display_name": "Python 3",
   "language": "python",
   "name": "python3"
  },
  "language_info": {
   "codemirror_mode": {
    "name": "ipython",
    "version": 3
   },
   "file_extension": ".py",
   "mimetype": "text/x-python",
   "name": "python",
   "nbconvert_exporter": "python",
   "pygments_lexer": "ipython3",
   "version": "3.6.5"
  }
 },
 "nbformat": 4,
 "nbformat_minor": 2
}
